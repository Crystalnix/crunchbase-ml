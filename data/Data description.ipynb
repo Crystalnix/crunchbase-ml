{
 "cells": [
  {
   "cell_type": "markdown",
   "metadata": {},
   "source": [
    "<H2>Data description</H2>\n",
    "<H3>Data dictionary</H3>"
   ]
  },
  {
   "cell_type": "markdown",
   "metadata": {},
   "source": [
    "| Variable             | Definition                                               | Key           |\n",
    "|----------------------|----------------------------------------------------------|---------------|\n",
    "| company_id           | Company ID                                               |               |\n",
    "| category_code        | Company category                                         |               |\n",
    "| country_code         | Country                                                  |               |\n",
    "| state_code           | State                                                    |               |\n",
    "| city                 | City                                                     |               |\n",
    "| region               | Region                                                   |               |\n",
    "| ipo                  | IPO                                                      | True or False |\n",
    "| is_acquired          | Company is acquired or not                               | True or False |\n",
    "| is_closed            | Company is closed or not                                 | True or False |\n",
    "| age                  | Company age in days                                      |               |\n",
    "| mba_degree           | Number of people with MBA degree associated with company |               |\n",
    "| phd_degree           | Number of people with PhD degree associated with company |               |\n",
    "| ms_degree            | Number of people with MS degree associated with company  |               |\n",
    "| other_degree         | Number of other people associated with company           |               |\n",
    "| offices              | Number of company's offices                              |               |\n",
    "| average_funded       | Funds per round                                          |               |\n",
    "| average_participants | Participants per round                                   |               |\n",
    "| total_rounds         | Total number of rounds                                   |               |\n",
    "| products_number      | Total number of products                                 |               |"
   ]
  }
 ],
 "metadata": {
  "kernelspec": {
   "display_name": "Python 3",
   "language": "python",
   "name": "python3"
  },
  "language_info": {
   "codemirror_mode": {
    "name": "ipython",
    "version": 3
   },
   "file_extension": ".py",
   "mimetype": "text/x-python",
   "name": "python",
   "nbconvert_exporter": "python",
   "pygments_lexer": "ipython3",
   "version": "3.5.2"
  }
 },
 "nbformat": 4,
 "nbformat_minor": 2
}
