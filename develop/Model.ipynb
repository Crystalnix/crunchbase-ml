{
 "cells": [
  {
   "cell_type": "code",
   "execution_count": 107,
   "metadata": {},
   "outputs": [],
   "source": [
    "import os\n",
    "import pandas as pd\n",
    "import numpy as np\n",
    "import matplotlib.pyplot as plt\n",
    "import seaborn as sns\n",
    "from sklearn.pipeline import Pipeline\n",
    "from sklearn.ensemble import RandomForestClassifier, GradientBoostingClassifier\n",
    "from sklearn.linear_model import LogisticRegression, Ridge, LinearRegression, RANSACRegressor\n",
    "from sklearn.model_selection import GridSearchCV, StratifiedKFold\n",
    "from sklearn_pandas import DataFrameMapper, CategoricalImputer\n",
    "from itertools import chain\n",
    "sns.set(style=\"whitegrid\", color_codes=True)\n",
    "%matplotlib inline"
   ]
  },
  {
   "cell_type": "code",
   "execution_count": 49,
   "metadata": {
    "collapsed": true
   },
   "outputs": [],
   "source": [
    "DATA_FILE = \"../data/train_data.csv\"\n",
    "path = os.path.normpath(os.path.join(os.path.abspath(os.path.curdir), DATA_FILE))"
   ]
  },
  {
   "cell_type": "code",
   "execution_count": 50,
   "metadata": {},
   "outputs": [],
   "source": [
    "train_data = pd.read_csv(path)\n",
    "X = train_data.drop('is_acquired', axis=1)\n",
    "Y = train_data['is_acquired']"
   ]
  },
  {
   "cell_type": "markdown",
   "metadata": {},
   "source": [
    "<H3>Fullness of columns</H3>"
   ]
  },
  {
   "cell_type": "code",
   "execution_count": 51,
   "metadata": {},
   "outputs": [
    {
     "data": {
      "text/plain": [
       "company_id              1.000000\n",
       "category_code           0.960513\n",
       "country_code            1.000000\n",
       "state_code              1.000000\n",
       "average_funded          0.878784\n",
       "total_rounds            1.000000\n",
       "average_participants    1.000000\n",
       "products_number         0.127042\n",
       "offices                 0.932562\n",
       "mba_degree              0.253809\n",
       "phd_degree              0.085666\n",
       "ms_degree               0.191961\n",
       "other_degree            0.481320\n",
       "ipo                     1.000000\n",
       "is_closed               1.000000\n",
       "age                     0.770915\n",
       "dtype: float64"
      ]
     },
     "execution_count": 51,
     "metadata": {},
     "output_type": "execute_result"
    }
   ],
   "source": [
    "X.notnull().mean()"
   ]
  },
  {
   "cell_type": "markdown",
   "metadata": {},
   "source": [
    "Degree columns are filled with zero. This value was choosen, because if we don't have an information about some degree category, we suppose that there is no people with that degree in a company."
   ]
  },
  {
   "cell_type": "code",
   "execution_count": 52,
   "metadata": {
    "collapsed": true
   },
   "outputs": [],
   "source": [
    "mapper = DataFrameMapper([\n",
    "    ('category_code', [CategoricalImputer()])\n",
    "])\n",
    "degree_columns = ['mba_degree', 'phd_degree', 'ms_degree', 'other_degree']\n",
    "X.loc[:,degree_columns] = X[degree_columns].fillna(0)"
   ]
  },
  {
   "cell_type": "code",
   "execution_count": 53,
   "metadata": {},
   "outputs": [],
   "source": [
    "data = pd.read_csv('/home/artem/Projects/wolf_of_crunchbase/data/data.csv')"
   ]
  },
  {
   "cell_type": "code",
   "execution_count": 63,
   "metadata": {},
   "outputs": [
    {
     "data": {
      "text/plain": [
       "<matplotlib.axes._subplots.AxesSubplot at 0x7f5dac35e898>"
      ]
     },
     "execution_count": 63,
     "metadata": {},
     "output_type": "execute_result"
    },
    {
     "data": {
      "image/png": "[encoded data removed]",
      "text/plain": [
       "<matplotlib.figure.Figure at 0x7f5dac232518>"
      ]
     },
     "metadata": {},
     "output_type": "display_data"
    }
   ],
   "source": [
    "g = data.groupby('total_rounds').average_funded.mean()\n",
    "dataframe = pd.DataFrame({'rounds': g.index, 'funded': g})\n",
    "sns.regplot(x='rounds', y='funded', data=dataframe)"
   ]
  },
  {
   "cell_type": "code",
   "execution_count": 108,
   "metadata": {},
   "outputs": [
    {
     "data": {
      "text/plain": [
       "<matplotlib.axes._subplots.AxesSubplot at 0x7f5dac13d978>"
      ]
     },
     "execution_count": 108,
     "metadata": {},
     "output_type": "execute_result"
    },
    {
     "data": {
      "image/png": "[encoded data removed]",
      "text/plain": [
       "<matplotlib.figure.Figure at 0x7f5dac15b2e8>"
      ]
     },
     "metadata": {},
     "output_type": "display_data"
    }
   ],
   "source": [
    "clf = RANSACRegressor()\n",
    "clf.fit(dataframe.rounds.to_frame(), dataframe.funded.to_frame())\n",
    "x_plot = [[i] for i in range(1, 16)]\n",
    "y_plot = clf.predict(x_plot)\n",
    "xs = np.array(list(chain(*x_plot)))\n",
    "ys = np.array(list(chain(*y_plot)))\n",
    "sns.regplot(x=xs, y=ys)"
   ]
  },
  {
   "cell_type": "code",
   "execution_count": 47,
   "metadata": {},
   "outputs": [
    {
     "data": {
      "text/plain": [
       "'/home/artem/Projects/wolf_of_crunchbase/data/data.csv'"
      ]
     },
     "execution_count": 47,
     "metadata": {},
     "output_type": "execute_result"
    }
   ],
   "source": [
    "DATA_FILE = \"../data/data.csv\"\n",
    "os.path.normpath(os.path.join(os.path.abspath(os.path.curdir), DATA_FILE))"
   ]
  },
  {
   "cell_type": "code",
   "execution_count": null,
   "metadata": {
    "collapsed": true
   },
   "outputs": [],
   "source": []
  }
 ],
 "metadata": {
  "kernelspec": {
   "display_name": "Python 3",
   "language": "python",
   "name": "python3"
  },
  "language_info": {
   "codemirror_mode": {
    "name": "ipython",
    "version": 3
   },
   "file_extension": ".py",
   "mimetype": "text/x-python",
   "name": "python",
   "nbconvert_exporter": "python",
   "pygments_lexer": "ipython3",
   "version": "3.5.2"
  }
 },
 "nbformat": 4,
 "nbformat_minor": 2
}
