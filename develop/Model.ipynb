{
 "cells": [
  {
   "cell_type": "code",
   "execution_count": 1,
   "metadata": {
    "collapsed": true
   },
   "outputs": [],
   "source": [
    "import pandas as pd\n",
    "import numpy as np\n",
    "import matplotlib.pyplot as plt\n",
    "import seaborn as sns\n",
    "from sklearn.pipeline import Pipeline\n",
    "from sklearn.ensemble import RandomForestClassifier, GradientBoostingClassifier\n",
    "from sklearn.linear_model import LogisticRegression\n",
    "from sklearn.model_selection import GridSearchCV, StratifiedKFold\n",
    "sns.set(style=\"whitegrid\", color_codes=True)\n",
    "%matplotlib inline"
   ]
  },
  {
   "cell_type": "code",
   "execution_count": 18,
   "metadata": {},
   "outputs": [],
   "source": [
    "train_data = pd.read_csv('/home/artem/Projects/wolf_of_crunchbase/data/train_data.csv')\n",
    "X = train_data.drop('is_acquired', axis=1)\n",
    "Y = train_data['is_acquired']"
   ]
  },
  {
   "cell_type": "markdown",
   "metadata": {},
   "source": [
    "<H3>Fullness of columns</H3>"
   ]
  },
  {
   "cell_type": "code",
   "execution_count": 19,
   "metadata": {},
   "outputs": [
    {
     "data": {
      "text/plain": [
       "company_id              1.000000\n",
       "category_code           0.961349\n",
       "country_code            1.000000\n",
       "state_code              1.000000\n",
       "average_funded          0.877120\n",
       "total_rounds            1.000000\n",
       "average_participants    1.000000\n",
       "products_number         0.128587\n",
       "offices                 0.932617\n",
       "mba_degree              0.257095\n",
       "phd_degree              0.087535\n",
       "ms_degree               0.193726\n",
       "other_degree            0.486047\n",
       "ipo                     1.000000\n",
       "is_closed               1.000000\n",
       "age                     0.773212\n",
       "dtype: float64"
      ]
     },
     "execution_count": 19,
     "metadata": {},
     "output_type": "execute_result"
    }
   ],
   "source": [
    "X.notnull().mean()"
   ]
  },
  {
   "cell_type": "markdown",
   "metadata": {},
   "source": [
    "Degree columns are filled with zero. This value was choosen, because if we don't have an information about some degree category, we suppose that there is no people with that degree in a company."
   ]
  },
  {
   "cell_type": "code",
   "execution_count": 16,
   "metadata": {
    "collapsed": true
   },
   "outputs": [],
   "source": [
    "degree_columns = ['mba_degree', 'phd_degree', 'ms_degree', 'other_degree']\n",
    "X.loc[:,degree_columns] = X[degree_columns].fillna(0)"
   ]
  },
  {
   "cell_type": "code",
   "execution_count": 17,
   "metadata": {},
   "outputs": [
    {
     "data": {
      "text/plain": [
       "company_id              0.992748\n",
       "category_code           0.953831\n",
       "country_code            1.000000\n",
       "state_code              1.000000\n",
       "average_funded          0.878685\n",
       "total_rounds            1.000000\n",
       "average_participants    1.000000\n",
       "products_number         0.126504\n",
       "offices                 0.925698\n",
       "mba_degree              0.253134\n",
       "phd_degree              0.085712\n",
       "ms_degree               0.189397\n",
       "other_degree            0.479135\n",
       "ipo                     1.000000\n",
       "is_acquired             1.000000\n",
       "is_closed               1.000000\n",
       "age                     0.766215\n",
       "dtype: float64"
      ]
     },
     "execution_count": 17,
     "metadata": {},
     "output_type": "execute_result"
    }
   ],
   "source": [
    "df = pd.read_csv('/home/artem/Projects/wolf_of_crunchbase/data/data.csv')\n",
    "df.notnull().mean()"
   ]
  },
  {
   "cell_type": "code",
   "execution_count": null,
   "metadata": {
    "collapsed": true
   },
   "outputs": [],
   "source": []
  }
 ],
 "metadata": {
  "kernelspec": {
   "display_name": "Python 3",
   "language": "python",
   "name": "python3"
  },
  "language_info": {
   "codemirror_mode": {
    "name": "ipython",
    "version": 3
   },
   "file_extension": ".py",
   "mimetype": "text/x-python",
   "name": "python",
   "nbconvert_exporter": "python",
   "pygments_lexer": "ipython3",
   "version": "3.5.2"
  }
 },
 "nbformat": 4,
 "nbformat_minor": 2
}
