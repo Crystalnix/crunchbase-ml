{
 "cells": [
  {
   "cell_type": "code",
   "execution_count": 1,
   "metadata": {},
   "outputs": [
    {
     "data": {
      "application/javascript": [
       "var kernel = IPython.notebook.kernel; \n",
       "var proj = window.document.body.getAttribute('data-project'); \n",
       "var path = window.document.body.getAttribute('data-notebook-path'); \n",
       "var command = \"proj = \" + \"'\"+proj+\"'\";\n",
       "kernel.execute(command);\n",
       "var command = \"path = \" + \"'\"+path+\"'\"; \n",
       "kernel.execute(command);"
      ],
      "text/plain": [
       "<IPython.core.display.Javascript object>"
      ]
     },
     "metadata": {},
     "output_type": "display_data"
    }
   ],
   "source": [
    "%%javascript \n",
    "var kernel = IPython.notebook.kernel; \n",
    "var proj = window.document.body.getAttribute('data-project'); \n",
    "var path = window.document.body.getAttribute('data-notebook-path'); \n",
    "var command = \"proj = \" + \"'\"+proj+\"'\";\n",
    "kernel.execute(command);\n",
    "var command = \"path = \" + \"'\"+path+\"'\"; \n",
    "kernel.execute(command);"
   ]
  },
  {
   "cell_type": "code",
   "execution_count": 36,
   "metadata": {
    "collapsed": true
   },
   "outputs": [],
   "source": [
    "import pandas as pd\n",
    "import numpy as np\n",
    "import matplotlib.pyplot as plt\n",
    "import seaborn\n",
    "seaborn.set(style=\"whitegrid\", color_codes=True)\n",
    "%matplotlib inline"
   ]
  },
  {
   "cell_type": "code",
   "execution_count": 13,
   "metadata": {},
   "outputs": [
    {
     "name": "stderr",
     "output_type": "stream",
     "text": [
      "/usr/local/lib/python3.5/dist-packages/IPython/core/interactiveshell.py:2683: DtypeWarning: Columns (7,14,16,17,18,25,40,45,60,65,70,75,80,85,95,100,105,110,115) have mixed types. Specify dtype option on import or set low_memory=False.\n",
      "  interactivity=interactivity, compiler=compiler, result=result)\n"
     ]
    }
   ],
   "source": [
    "df = pd.read_csv('/home/artem/Projects/wolf_of_crunchbase/data.csv')\n",
    "df.loc[:, 'category_code'] = df.category_code.astype('category')"
   ]
  },
  {
   "cell_type": "markdown",
   "metadata": {},
   "source": [
    "<H3>Probability of company acquisition depending on age (splitting by five years)</H3>"
   ]
  },
  {
   "cell_type": "code",
   "execution_count": 41,
   "metadata": {
    "collapsed": true
   },
   "outputs": [],
   "source": [
    "age = (pd.to_datetime('2014-01-01') - pd.to_datetime(df['founded_at'])).apply(lambda x: x.days // (365 * 5))\n",
    "age_acquisition = pd.DataFrame({'age': age})\n",
    "age_acquisition['is_acquired'] = df['acquired_at'].notnull()\n"
   ]
  },
  {
   "cell_type": "code",
   "execution_count": 42,
   "metadata": {
    "scrolled": true
   },
   "outputs": [
    {
     "data": {
      "text/plain": [
       "<matplotlib.axes._subplots.AxesSubplot at 0x7fda1f6b49b0>"
      ]
     },
     "execution_count": 42,
     "metadata": {},
     "output_type": "execute_result"
    },
    {
     "data": {
      "image/png": "[encoded data removed]",
      "text/plain": [
       "<matplotlib.figure.Figure at 0x7fda1f826ef0>"
      ]
     },
     "metadata": {},
     "output_type": "display_data"
    }
   ],
   "source": [
    "seaborn.barplot(x='age', y='is_acquired', data=age_acquisition)"
   ]
  },
  {
   "cell_type": "code",
   "execution_count": 57,
   "metadata": {},
   "outputs": [
    {
     "data": {
      "text/plain": [
       "age\n",
       " 3.0     0.162584\n",
       " 20.0    0.142857\n",
       " 5.0     0.140636\n",
       " 6.0     0.123188\n",
       " 4.0     0.117676\n",
       " 2.0     0.110728\n",
       " 9.0     0.110638\n",
       " 17.0    0.100000\n",
       " 10.0    0.099338\n",
       " 14.0    0.093023\n",
       " 16.0    0.089552\n",
       " 7.0     0.086598\n",
       " 8.0     0.073394\n",
       " 13.0    0.070796\n",
       " 21.0    0.058824\n",
       " 18.0    0.057143\n",
       " 1.0     0.054454\n",
       " 11.0    0.043860\n",
       " 22.0    0.041667\n",
       " 15.0    0.032258\n",
       " 12.0    0.028571\n",
       " 19.0    0.018868\n",
       " 0.0     0.015794\n",
       "-1.0     0.000000\n",
       "Name: is_acquired, dtype: float64"
      ]
     },
     "execution_count": 57,
     "metadata": {},
     "output_type": "execute_result"
    }
   ],
   "source": [
    "age_acquisition.groupby(by='age').is_acquired.mean().sort_values(ascending=False)"
   ]
  },
  {
   "cell_type": "markdown",
   "metadata": {},
   "source": [
    "<H3>Probability of company acquisition after IPO</H3>"
   ]
  },
  {
   "cell_type": "code",
   "execution_count": 44,
   "metadata": {
    "collapsed": true
   },
   "outputs": [],
   "source": [
    "ipo_acquisition = pd.DataFrame({'ipo': df['ipo_id'].notnull(), 'is_acquired': df['acquired_at'].notnull()})\n"
   ]
  },
  {
   "cell_type": "code",
   "execution_count": 50,
   "metadata": {
    "scrolled": true
   },
   "outputs": [
    {
     "data": {
      "text/plain": [
       "<matplotlib.axes._subplots.AxesSubplot at 0x7fda1f401d68>"
      ]
     },
     "execution_count": 50,
     "metadata": {},
     "output_type": "execute_result"
    },
    {
     "data": {
      "image/png": "[encoded data removed]",
      "text/plain": [
       "<matplotlib.figure.Figure at 0x7fda1f42b470>"
      ]
     },
     "metadata": {},
     "output_type": "display_data"
    }
   ],
   "source": [
    "seaborn.barplot(x='ipo', y='is_acquired', data=ipo_acquisition)"
   ]
  },
  {
   "cell_type": "markdown",
   "metadata": {},
   "source": [
    "<H3>Probability of company acquisition depending on company category</H3>"
   ]
  },
  {
   "cell_type": "code",
   "execution_count": 53,
   "metadata": {
    "collapsed": true
   },
   "outputs": [],
   "source": [
    "category_acquisition = pd.DataFrame({'category': df['category_code'], 'is_acquired': df['acquired_at'].notnull()})"
   ]
  },
  {
   "cell_type": "code",
   "execution_count": 54,
   "metadata": {},
   "outputs": [
    {
     "data": {
      "text/plain": [
       "<matplotlib.axes._subplots.AxesSubplot at 0x7fda1f217a20>"
      ]
     },
     "execution_count": 54,
     "metadata": {},
     "output_type": "execute_result"
    },
    {
     "data": {
      "image/png": "[encoded data removed]",
      "text/plain": [
       "<matplotlib.figure.Figure at 0x7fda1f356240>"
      ]
     },
     "metadata": {},
     "output_type": "display_data"
    }
   ],
   "source": [
    "seaborn.barplot(x='category', y='is_acquired', data=category_acquisition)"
   ]
  },
  {
   "cell_type": "code",
   "execution_count": 56,
   "metadata": {},
   "outputs": [
    {
     "data": {
      "text/plain": [
       "category\n",
       "semiconductor       0.221264\n",
       "security            0.112245\n",
       "biotech             0.103114\n",
       "enterprise          0.093729\n",
       "network_hosting     0.087049\n",
       "messaging           0.084175\n",
       "software            0.082195\n",
       "public_relations    0.078136\n",
       "hardware            0.068405\n",
       "web                 0.065932\n",
       "mobile              0.061435\n",
       "cleantech           0.059248\n",
       "advertising         0.052080\n",
       "games_video         0.046734\n",
       "manufacturing       0.044118\n",
       "analytics           0.039101\n",
       "news                0.036411\n",
       "search              0.032967\n",
       "ecommerce           0.031071\n",
       "finance             0.028860\n",
       "consulting          0.027556\n",
       "music               0.025818\n",
       "other               0.023488\n",
       "photo_video         0.022059\n",
       "travel              0.021368\n",
       "social              0.020611\n",
       "fashion             0.019538\n",
       "automotive          0.017182\n",
       "hospitality         0.016927\n",
       "real_estate         0.016878\n",
       "health              0.015901\n",
       "transportation      0.014315\n",
       "nanotech            0.014286\n",
       "design              0.014235\n",
       "medical             0.013877\n",
       "education           0.011375\n",
       "sports              0.007407\n",
       "nonprofit           0.005435\n",
       "legal               0.003953\n",
       "local               0.003822\n",
       "government          0.000000\n",
       "pets                0.000000\n",
       "Name: is_acquired, dtype: float64"
      ]
     },
     "execution_count": 56,
     "metadata": {},
     "output_type": "execute_result"
    }
   ],
   "source": [
    "category_acquisition.groupby(by='category').is_acquired.mean().sort_values(ascending=False)"
   ]
  },
  {
   "cell_type": "code",
   "execution_count": null,
   "metadata": {
    "collapsed": true
   },
   "outputs": [],
   "source": []
  }
 ],
 "metadata": {
  "kernelspec": {
   "display_name": "Python 3",
   "language": "python",
   "name": "python3"
  },
  "language_info": {
   "codemirror_mode": {
    "name": "ipython",
    "version": 3
   },
   "file_extension": ".py",
   "mimetype": "text/x-python",
   "name": "python",
   "nbconvert_exporter": "python",
   "pygments_lexer": "ipython3",
   "version": "3.5.2"
  }
 },
 "nbformat": 4,
 "nbformat_minor": 2
}
